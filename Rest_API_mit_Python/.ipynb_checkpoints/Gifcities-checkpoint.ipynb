{
 "cells": [
  {
   "cell_type": "code",
   "execution_count": 19,
   "metadata": {},
   "outputs": [],
   "source": [
    "\n",
    "import requests"
   ]
  },
  {
   "cell_type": "code",
   "execution_count": 17,
   "metadata": {},
   "outputs": [],
   "source": [
    "search = 'weekend'"
   ]
  },
  {
   "cell_type": "code",
   "execution_count": 20,
   "metadata": {},
   "outputs": [],
   "source": [
    "response = requests.get(url = 'https://api.giphy.com/v1/gifs/search?api_key=muJrM30Yso6LM27G5rWvv5pBFGIbV3iV&q='+ search)"
   ]
  },
  {
   "cell_type": "code",
   "execution_count": 22,
   "metadata": {},
   "outputs": [],
   "source": [
    "json=response.json()"
   ]
  },
  {
   "cell_type": "code",
   "execution_count": 28,
   "metadata": {},
   "outputs": [],
   "source": [
    "data = json ['data']\n",
    "\n",
    "\n",
    "urls=[]"
   ]
  },
  {
   "cell_type": "code",
   "execution_count": 30,
   "metadata": {},
   "outputs": [
    {
     "name": "stdout",
     "output_type": "stream",
     "text": [
      "['https://giphy.com/embed/l2JhBoNin9yhqSDLO']\n",
      "['https://giphy.com/embed/l2JhBoNin9yhqSDLO', 'https://giphy.com/embed/bWS1Vh9mVkcZq']\n",
      "['https://giphy.com/embed/l2JhBoNin9yhqSDLO', 'https://giphy.com/embed/bWS1Vh9mVkcZq', 'https://giphy.com/embed/l1KsKhiHUIHcD8rK0']\n",
      "['https://giphy.com/embed/l2JhBoNin9yhqSDLO', 'https://giphy.com/embed/bWS1Vh9mVkcZq', 'https://giphy.com/embed/l1KsKhiHUIHcD8rK0', 'https://giphy.com/embed/lAK7ACXBaEy4']\n",
      "['https://giphy.com/embed/l2JhBoNin9yhqSDLO', 'https://giphy.com/embed/bWS1Vh9mVkcZq', 'https://giphy.com/embed/l1KsKhiHUIHcD8rK0', 'https://giphy.com/embed/lAK7ACXBaEy4', 'https://giphy.com/embed/xUA7beJ2eGj2dfsaXu']\n",
      "['https://giphy.com/embed/l2JhBoNin9yhqSDLO', 'https://giphy.com/embed/bWS1Vh9mVkcZq', 'https://giphy.com/embed/l1KsKhiHUIHcD8rK0', 'https://giphy.com/embed/lAK7ACXBaEy4', 'https://giphy.com/embed/xUA7beJ2eGj2dfsaXu', 'https://giphy.com/embed/ZdFxoPhIS4glG']\n",
      "['https://giphy.com/embed/l2JhBoNin9yhqSDLO', 'https://giphy.com/embed/bWS1Vh9mVkcZq', 'https://giphy.com/embed/l1KsKhiHUIHcD8rK0', 'https://giphy.com/embed/lAK7ACXBaEy4', 'https://giphy.com/embed/xUA7beJ2eGj2dfsaXu', 'https://giphy.com/embed/ZdFxoPhIS4glG', 'https://giphy.com/embed/3oEduZ8iYwB5GHIFDq']\n",
      "['https://giphy.com/embed/l2JhBoNin9yhqSDLO', 'https://giphy.com/embed/bWS1Vh9mVkcZq', 'https://giphy.com/embed/l1KsKhiHUIHcD8rK0', 'https://giphy.com/embed/lAK7ACXBaEy4', 'https://giphy.com/embed/xUA7beJ2eGj2dfsaXu', 'https://giphy.com/embed/ZdFxoPhIS4glG', 'https://giphy.com/embed/3oEduZ8iYwB5GHIFDq', 'https://giphy.com/embed/l0DELhp35jGnDHxSM']\n",
      "['https://giphy.com/embed/l2JhBoNin9yhqSDLO', 'https://giphy.com/embed/bWS1Vh9mVkcZq', 'https://giphy.com/embed/l1KsKhiHUIHcD8rK0', 'https://giphy.com/embed/lAK7ACXBaEy4', 'https://giphy.com/embed/xUA7beJ2eGj2dfsaXu', 'https://giphy.com/embed/ZdFxoPhIS4glG', 'https://giphy.com/embed/3oEduZ8iYwB5GHIFDq', 'https://giphy.com/embed/l0DELhp35jGnDHxSM', 'https://giphy.com/embed/l0IpWdz5FIJCEJO6I']\n",
      "['https://giphy.com/embed/l2JhBoNin9yhqSDLO', 'https://giphy.com/embed/bWS1Vh9mVkcZq', 'https://giphy.com/embed/l1KsKhiHUIHcD8rK0', 'https://giphy.com/embed/lAK7ACXBaEy4', 'https://giphy.com/embed/xUA7beJ2eGj2dfsaXu', 'https://giphy.com/embed/ZdFxoPhIS4glG', 'https://giphy.com/embed/3oEduZ8iYwB5GHIFDq', 'https://giphy.com/embed/l0DELhp35jGnDHxSM', 'https://giphy.com/embed/l0IpWdz5FIJCEJO6I', 'https://giphy.com/embed/mVn5yRuhVaVwY']\n",
      "['https://giphy.com/embed/l2JhBoNin9yhqSDLO', 'https://giphy.com/embed/bWS1Vh9mVkcZq', 'https://giphy.com/embed/l1KsKhiHUIHcD8rK0', 'https://giphy.com/embed/lAK7ACXBaEy4', 'https://giphy.com/embed/xUA7beJ2eGj2dfsaXu', 'https://giphy.com/embed/ZdFxoPhIS4glG', 'https://giphy.com/embed/3oEduZ8iYwB5GHIFDq', 'https://giphy.com/embed/l0DELhp35jGnDHxSM', 'https://giphy.com/embed/l0IpWdz5FIJCEJO6I', 'https://giphy.com/embed/mVn5yRuhVaVwY', 'https://giphy.com/embed/HcEssO05koJmo']\n",
      "['https://giphy.com/embed/l2JhBoNin9yhqSDLO', 'https://giphy.com/embed/bWS1Vh9mVkcZq', 'https://giphy.com/embed/l1KsKhiHUIHcD8rK0', 'https://giphy.com/embed/lAK7ACXBaEy4', 'https://giphy.com/embed/xUA7beJ2eGj2dfsaXu', 'https://giphy.com/embed/ZdFxoPhIS4glG', 'https://giphy.com/embed/3oEduZ8iYwB5GHIFDq', 'https://giphy.com/embed/l0DELhp35jGnDHxSM', 'https://giphy.com/embed/l0IpWdz5FIJCEJO6I', 'https://giphy.com/embed/mVn5yRuhVaVwY', 'https://giphy.com/embed/HcEssO05koJmo', 'https://giphy.com/embed/vvw43wMKRwcy4']\n",
      "['https://giphy.com/embed/l2JhBoNin9yhqSDLO', 'https://giphy.com/embed/bWS1Vh9mVkcZq', 'https://giphy.com/embed/l1KsKhiHUIHcD8rK0', 'https://giphy.com/embed/lAK7ACXBaEy4', 'https://giphy.com/embed/xUA7beJ2eGj2dfsaXu', 'https://giphy.com/embed/ZdFxoPhIS4glG', 'https://giphy.com/embed/3oEduZ8iYwB5GHIFDq', 'https://giphy.com/embed/l0DELhp35jGnDHxSM', 'https://giphy.com/embed/l0IpWdz5FIJCEJO6I', 'https://giphy.com/embed/mVn5yRuhVaVwY', 'https://giphy.com/embed/HcEssO05koJmo', 'https://giphy.com/embed/vvw43wMKRwcy4', 'https://giphy.com/embed/10u1etNHGbmcwg']\n",
      "['https://giphy.com/embed/l2JhBoNin9yhqSDLO', 'https://giphy.com/embed/bWS1Vh9mVkcZq', 'https://giphy.com/embed/l1KsKhiHUIHcD8rK0', 'https://giphy.com/embed/lAK7ACXBaEy4', 'https://giphy.com/embed/xUA7beJ2eGj2dfsaXu', 'https://giphy.com/embed/ZdFxoPhIS4glG', 'https://giphy.com/embed/3oEduZ8iYwB5GHIFDq', 'https://giphy.com/embed/l0DELhp35jGnDHxSM', 'https://giphy.com/embed/l0IpWdz5FIJCEJO6I', 'https://giphy.com/embed/mVn5yRuhVaVwY', 'https://giphy.com/embed/HcEssO05koJmo', 'https://giphy.com/embed/vvw43wMKRwcy4', 'https://giphy.com/embed/10u1etNHGbmcwg', 'https://giphy.com/embed/pbGAjAU0sPKSc']\n",
      "['https://giphy.com/embed/l2JhBoNin9yhqSDLO', 'https://giphy.com/embed/bWS1Vh9mVkcZq', 'https://giphy.com/embed/l1KsKhiHUIHcD8rK0', 'https://giphy.com/embed/lAK7ACXBaEy4', 'https://giphy.com/embed/xUA7beJ2eGj2dfsaXu', 'https://giphy.com/embed/ZdFxoPhIS4glG', 'https://giphy.com/embed/3oEduZ8iYwB5GHIFDq', 'https://giphy.com/embed/l0DELhp35jGnDHxSM', 'https://giphy.com/embed/l0IpWdz5FIJCEJO6I', 'https://giphy.com/embed/mVn5yRuhVaVwY', 'https://giphy.com/embed/HcEssO05koJmo', 'https://giphy.com/embed/vvw43wMKRwcy4', 'https://giphy.com/embed/10u1etNHGbmcwg', 'https://giphy.com/embed/pbGAjAU0sPKSc', 'https://giphy.com/embed/8LAxVZBoqyvC0']\n",
      "['https://giphy.com/embed/l2JhBoNin9yhqSDLO', 'https://giphy.com/embed/bWS1Vh9mVkcZq', 'https://giphy.com/embed/l1KsKhiHUIHcD8rK0', 'https://giphy.com/embed/lAK7ACXBaEy4', 'https://giphy.com/embed/xUA7beJ2eGj2dfsaXu', 'https://giphy.com/embed/ZdFxoPhIS4glG', 'https://giphy.com/embed/3oEduZ8iYwB5GHIFDq', 'https://giphy.com/embed/l0DELhp35jGnDHxSM', 'https://giphy.com/embed/l0IpWdz5FIJCEJO6I', 'https://giphy.com/embed/mVn5yRuhVaVwY', 'https://giphy.com/embed/HcEssO05koJmo', 'https://giphy.com/embed/vvw43wMKRwcy4', 'https://giphy.com/embed/10u1etNHGbmcwg', 'https://giphy.com/embed/pbGAjAU0sPKSc', 'https://giphy.com/embed/8LAxVZBoqyvC0', 'https://giphy.com/embed/J0ySNzZ5APILC']\n",
      "['https://giphy.com/embed/l2JhBoNin9yhqSDLO', 'https://giphy.com/embed/bWS1Vh9mVkcZq', 'https://giphy.com/embed/l1KsKhiHUIHcD8rK0', 'https://giphy.com/embed/lAK7ACXBaEy4', 'https://giphy.com/embed/xUA7beJ2eGj2dfsaXu', 'https://giphy.com/embed/ZdFxoPhIS4glG', 'https://giphy.com/embed/3oEduZ8iYwB5GHIFDq', 'https://giphy.com/embed/l0DELhp35jGnDHxSM', 'https://giphy.com/embed/l0IpWdz5FIJCEJO6I', 'https://giphy.com/embed/mVn5yRuhVaVwY', 'https://giphy.com/embed/HcEssO05koJmo', 'https://giphy.com/embed/vvw43wMKRwcy4', 'https://giphy.com/embed/10u1etNHGbmcwg', 'https://giphy.com/embed/pbGAjAU0sPKSc', 'https://giphy.com/embed/8LAxVZBoqyvC0', 'https://giphy.com/embed/J0ySNzZ5APILC', 'https://giphy.com/embed/3ohfFJUMgs8m5F9qec']\n",
      "['https://giphy.com/embed/l2JhBoNin9yhqSDLO', 'https://giphy.com/embed/bWS1Vh9mVkcZq', 'https://giphy.com/embed/l1KsKhiHUIHcD8rK0', 'https://giphy.com/embed/lAK7ACXBaEy4', 'https://giphy.com/embed/xUA7beJ2eGj2dfsaXu', 'https://giphy.com/embed/ZdFxoPhIS4glG', 'https://giphy.com/embed/3oEduZ8iYwB5GHIFDq', 'https://giphy.com/embed/l0DELhp35jGnDHxSM', 'https://giphy.com/embed/l0IpWdz5FIJCEJO6I', 'https://giphy.com/embed/mVn5yRuhVaVwY', 'https://giphy.com/embed/HcEssO05koJmo', 'https://giphy.com/embed/vvw43wMKRwcy4', 'https://giphy.com/embed/10u1etNHGbmcwg', 'https://giphy.com/embed/pbGAjAU0sPKSc', 'https://giphy.com/embed/8LAxVZBoqyvC0', 'https://giphy.com/embed/J0ySNzZ5APILC', 'https://giphy.com/embed/3ohfFJUMgs8m5F9qec', 'https://giphy.com/embed/l41lUc8zs06skJkAw']\n",
      "['https://giphy.com/embed/l2JhBoNin9yhqSDLO', 'https://giphy.com/embed/bWS1Vh9mVkcZq', 'https://giphy.com/embed/l1KsKhiHUIHcD8rK0', 'https://giphy.com/embed/lAK7ACXBaEy4', 'https://giphy.com/embed/xUA7beJ2eGj2dfsaXu', 'https://giphy.com/embed/ZdFxoPhIS4glG', 'https://giphy.com/embed/3oEduZ8iYwB5GHIFDq', 'https://giphy.com/embed/l0DELhp35jGnDHxSM', 'https://giphy.com/embed/l0IpWdz5FIJCEJO6I', 'https://giphy.com/embed/mVn5yRuhVaVwY', 'https://giphy.com/embed/HcEssO05koJmo', 'https://giphy.com/embed/vvw43wMKRwcy4', 'https://giphy.com/embed/10u1etNHGbmcwg', 'https://giphy.com/embed/pbGAjAU0sPKSc', 'https://giphy.com/embed/8LAxVZBoqyvC0', 'https://giphy.com/embed/J0ySNzZ5APILC', 'https://giphy.com/embed/3ohfFJUMgs8m5F9qec', 'https://giphy.com/embed/l41lUc8zs06skJkAw', 'https://giphy.com/embed/l3fZGx5wFR69rNGuc']\n",
      "['https://giphy.com/embed/l2JhBoNin9yhqSDLO', 'https://giphy.com/embed/bWS1Vh9mVkcZq', 'https://giphy.com/embed/l1KsKhiHUIHcD8rK0', 'https://giphy.com/embed/lAK7ACXBaEy4', 'https://giphy.com/embed/xUA7beJ2eGj2dfsaXu', 'https://giphy.com/embed/ZdFxoPhIS4glG', 'https://giphy.com/embed/3oEduZ8iYwB5GHIFDq', 'https://giphy.com/embed/l0DELhp35jGnDHxSM', 'https://giphy.com/embed/l0IpWdz5FIJCEJO6I', 'https://giphy.com/embed/mVn5yRuhVaVwY', 'https://giphy.com/embed/HcEssO05koJmo', 'https://giphy.com/embed/vvw43wMKRwcy4', 'https://giphy.com/embed/10u1etNHGbmcwg', 'https://giphy.com/embed/pbGAjAU0sPKSc', 'https://giphy.com/embed/8LAxVZBoqyvC0', 'https://giphy.com/embed/J0ySNzZ5APILC', 'https://giphy.com/embed/3ohfFJUMgs8m5F9qec', 'https://giphy.com/embed/l41lUc8zs06skJkAw', 'https://giphy.com/embed/l3fZGx5wFR69rNGuc', 'https://giphy.com/embed/3o6Zt0bP8W03YzJfMs']\n",
      "['https://giphy.com/embed/l2JhBoNin9yhqSDLO', 'https://giphy.com/embed/bWS1Vh9mVkcZq', 'https://giphy.com/embed/l1KsKhiHUIHcD8rK0', 'https://giphy.com/embed/lAK7ACXBaEy4', 'https://giphy.com/embed/xUA7beJ2eGj2dfsaXu', 'https://giphy.com/embed/ZdFxoPhIS4glG', 'https://giphy.com/embed/3oEduZ8iYwB5GHIFDq', 'https://giphy.com/embed/l0DELhp35jGnDHxSM', 'https://giphy.com/embed/l0IpWdz5FIJCEJO6I', 'https://giphy.com/embed/mVn5yRuhVaVwY', 'https://giphy.com/embed/HcEssO05koJmo', 'https://giphy.com/embed/vvw43wMKRwcy4', 'https://giphy.com/embed/10u1etNHGbmcwg', 'https://giphy.com/embed/pbGAjAU0sPKSc', 'https://giphy.com/embed/8LAxVZBoqyvC0', 'https://giphy.com/embed/J0ySNzZ5APILC', 'https://giphy.com/embed/3ohfFJUMgs8m5F9qec', 'https://giphy.com/embed/l41lUc8zs06skJkAw', 'https://giphy.com/embed/l3fZGx5wFR69rNGuc', 'https://giphy.com/embed/3o6Zt0bP8W03YzJfMs', 'https://giphy.com/embed/xTk9ZHdwzaKXJ15LSE']\n",
      "['https://giphy.com/embed/l2JhBoNin9yhqSDLO', 'https://giphy.com/embed/bWS1Vh9mVkcZq', 'https://giphy.com/embed/l1KsKhiHUIHcD8rK0', 'https://giphy.com/embed/lAK7ACXBaEy4', 'https://giphy.com/embed/xUA7beJ2eGj2dfsaXu', 'https://giphy.com/embed/ZdFxoPhIS4glG', 'https://giphy.com/embed/3oEduZ8iYwB5GHIFDq', 'https://giphy.com/embed/l0DELhp35jGnDHxSM', 'https://giphy.com/embed/l0IpWdz5FIJCEJO6I', 'https://giphy.com/embed/mVn5yRuhVaVwY', 'https://giphy.com/embed/HcEssO05koJmo', 'https://giphy.com/embed/vvw43wMKRwcy4', 'https://giphy.com/embed/10u1etNHGbmcwg', 'https://giphy.com/embed/pbGAjAU0sPKSc', 'https://giphy.com/embed/8LAxVZBoqyvC0', 'https://giphy.com/embed/J0ySNzZ5APILC', 'https://giphy.com/embed/3ohfFJUMgs8m5F9qec', 'https://giphy.com/embed/l41lUc8zs06skJkAw', 'https://giphy.com/embed/l3fZGx5wFR69rNGuc', 'https://giphy.com/embed/3o6Zt0bP8W03YzJfMs', 'https://giphy.com/embed/xTk9ZHdwzaKXJ15LSE', 'https://giphy.com/embed/DLGjj0td8Ki8o']\n",
      "['https://giphy.com/embed/l2JhBoNin9yhqSDLO', 'https://giphy.com/embed/bWS1Vh9mVkcZq', 'https://giphy.com/embed/l1KsKhiHUIHcD8rK0', 'https://giphy.com/embed/lAK7ACXBaEy4', 'https://giphy.com/embed/xUA7beJ2eGj2dfsaXu', 'https://giphy.com/embed/ZdFxoPhIS4glG', 'https://giphy.com/embed/3oEduZ8iYwB5GHIFDq', 'https://giphy.com/embed/l0DELhp35jGnDHxSM', 'https://giphy.com/embed/l0IpWdz5FIJCEJO6I', 'https://giphy.com/embed/mVn5yRuhVaVwY', 'https://giphy.com/embed/HcEssO05koJmo', 'https://giphy.com/embed/vvw43wMKRwcy4', 'https://giphy.com/embed/10u1etNHGbmcwg', 'https://giphy.com/embed/pbGAjAU0sPKSc', 'https://giphy.com/embed/8LAxVZBoqyvC0', 'https://giphy.com/embed/J0ySNzZ5APILC', 'https://giphy.com/embed/3ohfFJUMgs8m5F9qec', 'https://giphy.com/embed/l41lUc8zs06skJkAw', 'https://giphy.com/embed/l3fZGx5wFR69rNGuc', 'https://giphy.com/embed/3o6Zt0bP8W03YzJfMs', 'https://giphy.com/embed/xTk9ZHdwzaKXJ15LSE', 'https://giphy.com/embed/DLGjj0td8Ki8o', 'https://giphy.com/embed/2gn8uQZocPUYM']\n",
      "['https://giphy.com/embed/l2JhBoNin9yhqSDLO', 'https://giphy.com/embed/bWS1Vh9mVkcZq', 'https://giphy.com/embed/l1KsKhiHUIHcD8rK0', 'https://giphy.com/embed/lAK7ACXBaEy4', 'https://giphy.com/embed/xUA7beJ2eGj2dfsaXu', 'https://giphy.com/embed/ZdFxoPhIS4glG', 'https://giphy.com/embed/3oEduZ8iYwB5GHIFDq', 'https://giphy.com/embed/l0DELhp35jGnDHxSM', 'https://giphy.com/embed/l0IpWdz5FIJCEJO6I', 'https://giphy.com/embed/mVn5yRuhVaVwY', 'https://giphy.com/embed/HcEssO05koJmo', 'https://giphy.com/embed/vvw43wMKRwcy4', 'https://giphy.com/embed/10u1etNHGbmcwg', 'https://giphy.com/embed/pbGAjAU0sPKSc', 'https://giphy.com/embed/8LAxVZBoqyvC0', 'https://giphy.com/embed/J0ySNzZ5APILC', 'https://giphy.com/embed/3ohfFJUMgs8m5F9qec', 'https://giphy.com/embed/l41lUc8zs06skJkAw', 'https://giphy.com/embed/l3fZGx5wFR69rNGuc', 'https://giphy.com/embed/3o6Zt0bP8W03YzJfMs', 'https://giphy.com/embed/xTk9ZHdwzaKXJ15LSE', 'https://giphy.com/embed/DLGjj0td8Ki8o', 'https://giphy.com/embed/2gn8uQZocPUYM', 'https://giphy.com/embed/Gsrj1RAgVBQ9q']\n",
      "['https://giphy.com/embed/l2JhBoNin9yhqSDLO', 'https://giphy.com/embed/bWS1Vh9mVkcZq', 'https://giphy.com/embed/l1KsKhiHUIHcD8rK0', 'https://giphy.com/embed/lAK7ACXBaEy4', 'https://giphy.com/embed/xUA7beJ2eGj2dfsaXu', 'https://giphy.com/embed/ZdFxoPhIS4glG', 'https://giphy.com/embed/3oEduZ8iYwB5GHIFDq', 'https://giphy.com/embed/l0DELhp35jGnDHxSM', 'https://giphy.com/embed/l0IpWdz5FIJCEJO6I', 'https://giphy.com/embed/mVn5yRuhVaVwY', 'https://giphy.com/embed/HcEssO05koJmo', 'https://giphy.com/embed/vvw43wMKRwcy4', 'https://giphy.com/embed/10u1etNHGbmcwg', 'https://giphy.com/embed/pbGAjAU0sPKSc', 'https://giphy.com/embed/8LAxVZBoqyvC0', 'https://giphy.com/embed/J0ySNzZ5APILC', 'https://giphy.com/embed/3ohfFJUMgs8m5F9qec', 'https://giphy.com/embed/l41lUc8zs06skJkAw', 'https://giphy.com/embed/l3fZGx5wFR69rNGuc', 'https://giphy.com/embed/3o6Zt0bP8W03YzJfMs', 'https://giphy.com/embed/xTk9ZHdwzaKXJ15LSE', 'https://giphy.com/embed/DLGjj0td8Ki8o', 'https://giphy.com/embed/2gn8uQZocPUYM', 'https://giphy.com/embed/Gsrj1RAgVBQ9q', 'https://giphy.com/embed/W8krmZSDxPIfm']\n"
     ]
    }
   ],
   "source": [
    "for myObject in data: \n",
    "    url = myObject['embed_url']\n",
    "    urls.append(url)\n",
    "    print(urls)"
   ]
  },
  {
   "cell_type": "code",
   "execution_count": 32,
   "metadata": {},
   "outputs": [
    {
     "name": "stdout",
     "output_type": "stream",
     "text": [
      "['https://giphy.com/embed/l2JhBoNin9yhqSDLO', 'https://giphy.com/embed/bWS1Vh9mVkcZq', 'https://giphy.com/embed/l1KsKhiHUIHcD8rK0', 'https://giphy.com/embed/lAK7ACXBaEy4', 'https://giphy.com/embed/xUA7beJ2eGj2dfsaXu', 'https://giphy.com/embed/ZdFxoPhIS4glG', 'https://giphy.com/embed/3oEduZ8iYwB5GHIFDq', 'https://giphy.com/embed/l0DELhp35jGnDHxSM', 'https://giphy.com/embed/l0IpWdz5FIJCEJO6I', 'https://giphy.com/embed/mVn5yRuhVaVwY', 'https://giphy.com/embed/HcEssO05koJmo', 'https://giphy.com/embed/vvw43wMKRwcy4', 'https://giphy.com/embed/10u1etNHGbmcwg', 'https://giphy.com/embed/pbGAjAU0sPKSc', 'https://giphy.com/embed/8LAxVZBoqyvC0', 'https://giphy.com/embed/J0ySNzZ5APILC', 'https://giphy.com/embed/3ohfFJUMgs8m5F9qec', 'https://giphy.com/embed/l41lUc8zs06skJkAw', 'https://giphy.com/embed/l3fZGx5wFR69rNGuc', 'https://giphy.com/embed/3o6Zt0bP8W03YzJfMs', 'https://giphy.com/embed/xTk9ZHdwzaKXJ15LSE', 'https://giphy.com/embed/DLGjj0td8Ki8o', 'https://giphy.com/embed/2gn8uQZocPUYM', 'https://giphy.com/embed/Gsrj1RAgVBQ9q', 'https://giphy.com/embed/W8krmZSDxPIfm']\n"
     ]
    }
   ],
   "source": [
    "print(urls)"
   ]
  },
  {
   "cell_type": "code",
   "execution_count": null,
   "metadata": {
    "collapsed": true
   },
   "outputs": [],
   "source": []
  }
 ],
 "metadata": {
  "kernelspec": {
   "display_name": "Python 3",
   "language": "python",
   "name": "python3"
  },
  "language_info": {
   "codemirror_mode": {
    "name": "ipython",
    "version": 3
   },
   "file_extension": ".py",
   "mimetype": "text/x-python",
   "name": "python",
   "nbconvert_exporter": "python",
   "pygments_lexer": "ipython3",
   "version": "3.6.3"
  }
 },
 "nbformat": 4,
 "nbformat_minor": 2
}
